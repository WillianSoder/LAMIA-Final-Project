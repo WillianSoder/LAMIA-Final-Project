{
 "cells": [
  {
   "cell_type": "markdown",
   "metadata": {},
   "source": [
    "# Loan Approval AI \n",
    "### O obejtivo deste codigo é desenvolver um modelo de IA capaz determinar a elegibilidade de indivíduos ou organizações para obter empréstimos de uma instituição de crédito, atraves de dados como, renda, grau de escolaridade, pontuação de crédito entre outros. "
   ]
  },
  {
   "cell_type": "code",
   "execution_count": 3,
   "metadata": {},
   "outputs": [
    {
     "name": "stderr",
     "output_type": "stream",
     "text": [
      "2024-10-09 21:33:45.418324: I tensorflow/core/util/port.cc:153] oneDNN custom operations are on. You may see slightly different numerical results due to floating-point round-off errors from different computation orders. To turn them off, set the environment variable `TF_ENABLE_ONEDNN_OPTS=0`.\n",
      "2024-10-09 21:33:45.429204: E external/local_xla/xla/stream_executor/cuda/cuda_fft.cc:485] Unable to register cuFFT factory: Attempting to register factory for plugin cuFFT when one has already been registered\n",
      "2024-10-09 21:33:45.441885: E external/local_xla/xla/stream_executor/cuda/cuda_dnn.cc:8454] Unable to register cuDNN factory: Attempting to register factory for plugin cuDNN when one has already been registered\n",
      "2024-10-09 21:33:45.445204: E external/local_xla/xla/stream_executor/cuda/cuda_blas.cc:1452] Unable to register cuBLAS factory: Attempting to register factory for plugin cuBLAS when one has already been registered\n",
      "2024-10-09 21:33:45.455274: I tensorflow/core/platform/cpu_feature_guard.cc:210] This TensorFlow binary is optimized to use available CPU instructions in performance-critical operations.\n",
      "To enable the following instructions: AVX2 AVX_VNNI FMA, in other operations, rebuild TensorFlow with the appropriate compiler flags.\n",
      "2024-10-09 21:33:46.100210: W tensorflow/compiler/tf2tensorrt/utils/py_utils.cc:38] TF-TRT Warning: Could not find TensorRT\n"
     ]
    }
   ],
   "source": [
    "# Importando as bibliotecas necessarias \n",
    "import pandas as pd\n",
    "from sklearn.model_selection import train_test_split\n",
    "from sklearn.preprocessing import LabelEncoder, StandardScaler\n",
    "import tensorflow as tf"
   ]
  },
  {
   "cell_type": "markdown",
   "metadata": {},
   "source": [
    "# Carregar dataset\n",
    "### Para o projeto foi escolhido um dataset de aprovação de empréstimo, que é um arquivo .csv que contém uma coleção de registros financeiros e informações associadas usadas para determinar a elegibilidade de indivíduos ou organizações para obter empréstimos de uma instituição de crédito. Ele inclui vários fatores, como pontuação cibil, renda, status de emprego, prazo do empréstimo, valor do empréstimo, valor dos ativos e status do empréstimo. Este conjunto de dados é comumente usado em aprendizado de máquina e análise de dados para desenvolver modelos e algoritmos que preveem a probabilidade de aprovação de empréstimo com base nos recursos fornecidos.\n",
    "\n",
    "O dataset utilizado esta disponivel no Kaggle, e pode ser acessado pelo link: https://www.kaggle.com/datasets/architsharma01/loan-approval-prediction-dataset"
   ]
  },
  {
   "cell_type": "code",
   "execution_count": 2,
   "metadata": {},
   "outputs": [],
   "source": [
    "# Carregar os dados\n",
    "dados = pd.read_csv('loan_approval_dataset.csv')"
   ]
  },
  {
   "cell_type": "markdown",
   "metadata": {},
   "source": [
    "# Pré-processamento dos Dados"
   ]
  },
  {
   "cell_type": "markdown",
   "metadata": {},
   "source": [
    "## Remoção de colunas que não possuem relevância"
   ]
  },
  {
   "cell_type": "code",
   "execution_count": 3,
   "metadata": {},
   "outputs": [],
   "source": [
    "# Removendo a coluna loan_id, pois é apenas um identificador\n",
    "dados_preprocessados = dados.drop('loan_id', axis=1)"
   ]
  },
  {
   "cell_type": "markdown",
   "metadata": {},
   "source": [
    "## Codificando colunas de dados categórticos\n",
    "### Para este processo foi utilizado o LabelEncoder que é uma classe do módulo sklearn.preprocessing usada para converter rótulos categóricos em valores numéricos (inteiros)."
   ]
  },
  {
   "cell_type": "code",
   "execution_count": 4,
   "metadata": {},
   "outputs": [],
   "source": [
    "# Codificar as colunas categóricas: 'education', 'self_employed', 'loan_status'\n",
    "\n",
    "# Cada encoder foi salvo separado para usar a mesma valor numerico para os rotulos posteriormente (poderia ser feito com apenas um)\n",
    "label_encoder_education = LabelEncoder() \n",
    "dados_preprocessados[' education'] = label_encoder_education.fit_transform(dados_preprocessados[' education'])\n",
    "\n",
    "label_encoder_self_employed = LabelEncoder()\n",
    "dados_preprocessados[' self_employed'] = label_encoder_self_employed.fit_transform(dados_preprocessados[' self_employed'])\n",
    "\n",
    "label_encoder = LabelEncoder()\n",
    "dados_preprocessados[' loan_status'] = label_encoder.fit_transform(dados_preprocessados[' loan_status'])"
   ]
  },
  {
   "cell_type": "markdown",
   "metadata": {},
   "source": [
    "### Pode-se observar que o encoder atribuiu o valor 1 para 'Rejected' e 0 para 'Approved'. Isso significa que, ao realizar as previsões, se o valor previsto for maior que 0,5, o empréstimo não foi aprovado; caso seja menor, o empréstimo foi aceito.\""
   ]
  },
  {
   "cell_type": "code",
   "execution_count": 10,
   "metadata": {},
   "outputs": [
    {
     "name": "stdout",
     "output_type": "stream",
     "text": [
      "Rótulos originais: 0        Approved\n",
      "1        Rejected\n",
      "2        Rejected\n",
      "3        Rejected\n",
      "4        Rejected\n",
      "          ...    \n",
      "4264     Rejected\n",
      "4265     Approved\n",
      "4266     Rejected\n",
      "4267     Approved\n",
      "4268     Approved\n",
      "Name:  loan_status, Length: 4269, dtype: object\n",
      "Valores transformados: 0       0\n",
      "1       1\n",
      "2       1\n",
      "3       1\n",
      "4       1\n",
      "       ..\n",
      "4264    1\n",
      "4265    0\n",
      "4266    1\n",
      "4267    0\n",
      "4268    0\n",
      "Name:  loan_status, Length: 4269, dtype: int64\n",
      "Correspondências (classes_): [' Approved' ' Rejected']\n"
     ]
    }
   ],
   "source": [
    "# Exibe os valores originais e transformados\n",
    "print(\"Rótulos originais:\", dados[' loan_status'])\n",
    "print(\"Valores transformados:\", dados_preprocessados[' loan_status'])"
   ]
  },
  {
   "cell_type": "markdown",
   "metadata": {},
   "source": [
    "## Separando treino e teste \n",
    "### Neste processo foram separados o dados alvos ('Rejected' e 'Approved'), bem como os dados foram dividios em 80% para treino e 20% para teste"
   ]
  },
  {
   "cell_type": "code",
   "execution_count": 11,
   "metadata": {},
   "outputs": [],
   "source": [
    "# Separar os recursos (X) e o alvo (y)\n",
    "X = dados_preprocessados.drop(' loan_status', axis=1)\n",
    "y = dados_preprocessados[' loan_status']\n",
    "\n",
    "# Dividir os dados em treino e teste\n",
    "X_treino, X_teste, y_treino, y_teste = train_test_split(X, y, test_size=0.2, random_state=42)"
   ]
  },
  {
   "cell_type": "markdown",
   "metadata": {},
   "source": [
    "## Normalizando os dados\n",
    "### Para isso foi utilizado o StandardScaler(), que ajusta os dados numéricos com o objetico que os mesmos tenham média zero e desvio padrão igual a 1. "
   ]
  },
  {
   "cell_type": "code",
   "execution_count": 12,
   "metadata": {},
   "outputs": [],
   "source": [
    "# Normalizar os dados numéricos\n",
    "scaler = StandardScaler()\n",
    "\n",
    "# Ajustar (fit) o scaler no conjunto de treinamento\n",
    "X_treino_scaler = scaler.fit_transform(X_treino)\n",
    "\n",
    "# Aplicar o scaler no conjunto de teste (sem ajustar novamente)\n",
    "X_teste_scaler = scaler.transform(X_teste)"
   ]
  },
  {
   "cell_type": "markdown",
   "metadata": {},
   "source": [
    "# Construindo o Modelo "
   ]
  },
  {
   "cell_type": "markdown",
   "metadata": {},
   "source": [
    "## Modelo Sequential \n",
    "### tf.keras.Sequential é uma classe do TensorFlow usada para construir modelos de redes neurais de forma sequencial, que permite empilhar camadas de maneira linear, onde cada camada possui uma única entrada e uma única saída.\n",
    "\n",
    "### O modelo possui 3 camadas que utilizam a função de ativação ReLu que ajuda a introduzir não linearidades e melhora a convergência durante o treinamento, já na camada de saída o modelo utiliza a função sigmoid que produz uma saída entre 0 e 1, ideal para o projeto que se trata de um problema de classificação binária."
   ]
  },
  {
   "cell_type": "code",
   "execution_count": 13,
   "metadata": {},
   "outputs": [
    {
     "name": "stderr",
     "output_type": "stream",
     "text": [
      "/home/williansoder/.local/lib/python3.10/site-packages/keras/src/layers/core/dense.py:87: UserWarning: Do not pass an `input_shape`/`input_dim` argument to a layer. When using Sequential models, prefer using an `Input(shape)` object as the first layer in the model instead.\n",
      "  super().__init__(activity_regularizer=activity_regularizer, **kwargs)\n",
      "2024-10-09 10:50:00.032823: E external/local_xla/xla/stream_executor/cuda/cuda_driver.cc:266] failed call to cuInit: CUDA_ERROR_NO_DEVICE: no CUDA-capable device is detected\n"
     ]
    }
   ],
   "source": [
    "modelo = tf.keras.Sequential([\n",
    "    tf.keras.layers.Dense(32, activation='relu', input_shape=(X_treino_scaler.shape[1],)),\n",
    "    tf.keras.layers.Dense(16, activation='relu'),\n",
    "     tf.keras.layers.Dense(8, activation='relu'),\n",
    "    tf.keras.layers.Dense(1, activation='sigmoid')  # Camada de saída para classificação binária\n",
    "])"
   ]
  },
  {
   "cell_type": "markdown",
   "metadata": {},
   "source": [
    "## Compilando o Modelo \n",
    "\n",
    "### Foi utilizado o otimizador 'adam' para ajusatr os pesos pois e um dos melhores e masi utilizados, e como função de perda foi utilizada a 'binary_crossentropy' que é ideal para problemas de classificação binária e por fim as metrica utilizada foi de acurácia."
   ]
  },
  {
   "cell_type": "code",
   "execution_count": 14,
   "metadata": {},
   "outputs": [],
   "source": [
    "# Compilando o modelo\n",
    "modelo.compile(optimizer='adam', loss='binary_crossentropy', metrics=['accuracy'])"
   ]
  },
  {
   "cell_type": "markdown",
   "metadata": {},
   "source": [
    "# Treinando o Modelo "
   ]
  },
  {
   "cell_type": "code",
   "execution_count": 15,
   "metadata": {},
   "outputs": [
    {
     "name": "stdout",
     "output_type": "stream",
     "text": [
      "Epoch 1/50\n",
      "\u001b[1m107/107\u001b[0m \u001b[32m━━━━━━━━━━━━━━━━━━━━\u001b[0m\u001b[37m\u001b[0m \u001b[1m1s\u001b[0m 2ms/step - accuracy: 0.6792 - loss: 0.5937 - val_accuracy: 0.8759 - val_loss: 0.3249\n",
      "Epoch 2/50\n",
      "\u001b[1m107/107\u001b[0m \u001b[32m━━━━━━━━━━━━━━━━━━━━\u001b[0m\u001b[37m\u001b[0m \u001b[1m0s\u001b[0m 1ms/step - accuracy: 0.9008 - loss: 0.2877 - val_accuracy: 0.9052 - val_loss: 0.2314\n",
      "Epoch 3/50\n",
      "\u001b[1m107/107\u001b[0m \u001b[32m━━━━━━━━━━━━━━━━━━━━\u001b[0m\u001b[37m\u001b[0m \u001b[1m0s\u001b[0m 1ms/step - accuracy: 0.9273 - loss: 0.2135 - val_accuracy: 0.9169 - val_loss: 0.2162\n",
      "Epoch 4/50\n",
      "\u001b[1m107/107\u001b[0m \u001b[32m━━━━━━━━━━━━━━━━━━━━\u001b[0m\u001b[37m\u001b[0m \u001b[1m0s\u001b[0m 1ms/step - accuracy: 0.9255 - loss: 0.2173 - val_accuracy: 0.9204 - val_loss: 0.2001\n",
      "Epoch 5/50\n",
      "\u001b[1m107/107\u001b[0m \u001b[32m━━━━━━━━━━━━━━━━━━━━\u001b[0m\u001b[37m\u001b[0m \u001b[1m0s\u001b[0m 1ms/step - accuracy: 0.9390 - loss: 0.1661 - val_accuracy: 0.9145 - val_loss: 0.1914\n",
      "Epoch 6/50\n",
      "\u001b[1m107/107\u001b[0m \u001b[32m━━━━━━━━━━━━━━━━━━━━\u001b[0m\u001b[37m\u001b[0m \u001b[1m0s\u001b[0m 897us/step - accuracy: 0.9378 - loss: 0.1634 - val_accuracy: 0.9227 - val_loss: 0.1801\n",
      "Epoch 7/50\n",
      "\u001b[1m107/107\u001b[0m \u001b[32m━━━━━━━━━━━━━━━━━━━━\u001b[0m\u001b[37m\u001b[0m \u001b[1m0s\u001b[0m 1ms/step - accuracy: 0.9408 - loss: 0.1759 - val_accuracy: 0.9227 - val_loss: 0.1692\n",
      "Epoch 8/50\n",
      "\u001b[1m107/107\u001b[0m \u001b[32m━━━━━━━━━━━━━━━━━━━━\u001b[0m\u001b[37m\u001b[0m \u001b[1m0s\u001b[0m 958us/step - accuracy: 0.9349 - loss: 0.1640 - val_accuracy: 0.9239 - val_loss: 0.1631\n",
      "Epoch 9/50\n",
      "\u001b[1m107/107\u001b[0m \u001b[32m━━━━━━━━━━━━━━━━━━━━\u001b[0m\u001b[37m\u001b[0m \u001b[1m0s\u001b[0m 1ms/step - accuracy: 0.9464 - loss: 0.1402 - val_accuracy: 0.9227 - val_loss: 0.1582\n",
      "Epoch 10/50\n",
      "\u001b[1m107/107\u001b[0m \u001b[32m━━━━━━━━━━━━━━━━━━━━\u001b[0m\u001b[37m\u001b[0m \u001b[1m0s\u001b[0m 1ms/step - accuracy: 0.9463 - loss: 0.1352 - val_accuracy: 0.9286 - val_loss: 0.1435\n",
      "Epoch 11/50\n",
      "\u001b[1m107/107\u001b[0m \u001b[32m━━━━━━━━━━━━━━━━━━━━\u001b[0m\u001b[37m\u001b[0m \u001b[1m0s\u001b[0m 1ms/step - accuracy: 0.9557 - loss: 0.1157 - val_accuracy: 0.9403 - val_loss: 0.1395\n",
      "Epoch 12/50\n",
      "\u001b[1m107/107\u001b[0m \u001b[32m━━━━━━━━━━━━━━━━━━━━\u001b[0m\u001b[37m\u001b[0m \u001b[1m0s\u001b[0m 1ms/step - accuracy: 0.9534 - loss: 0.1194 - val_accuracy: 0.9426 - val_loss: 0.1344\n",
      "Epoch 13/50\n",
      "\u001b[1m107/107\u001b[0m \u001b[32m━━━━━━━━━━━━━━━━━━━━\u001b[0m\u001b[37m\u001b[0m \u001b[1m0s\u001b[0m 1ms/step - accuracy: 0.9608 - loss: 0.1252 - val_accuracy: 0.9450 - val_loss: 0.1334\n",
      "Epoch 14/50\n",
      "\u001b[1m107/107\u001b[0m \u001b[32m━━━━━━━━━━━━━━━━━━━━\u001b[0m\u001b[37m\u001b[0m \u001b[1m0s\u001b[0m 1ms/step - accuracy: 0.9584 - loss: 0.1099 - val_accuracy: 0.9450 - val_loss: 0.1260\n",
      "Epoch 15/50\n",
      "\u001b[1m107/107\u001b[0m \u001b[32m━━━━━━━━━━━━━━━━━━━━\u001b[0m\u001b[37m\u001b[0m \u001b[1m0s\u001b[0m 1ms/step - accuracy: 0.9649 - loss: 0.1093 - val_accuracy: 0.9391 - val_loss: 0.1306\n",
      "Epoch 16/50\n",
      "\u001b[1m107/107\u001b[0m \u001b[32m━━━━━━━━━━━━━━━━━━━━\u001b[0m\u001b[37m\u001b[0m \u001b[1m0s\u001b[0m 1ms/step - accuracy: 0.9682 - loss: 0.0931 - val_accuracy: 0.9485 - val_loss: 0.1270\n",
      "Epoch 17/50\n",
      "\u001b[1m107/107\u001b[0m \u001b[32m━━━━━━━━━━━━━━━━━━━━\u001b[0m\u001b[37m\u001b[0m \u001b[1m0s\u001b[0m 1ms/step - accuracy: 0.9664 - loss: 0.0963 - val_accuracy: 0.9391 - val_loss: 0.1280\n",
      "Epoch 18/50\n",
      "\u001b[1m107/107\u001b[0m \u001b[32m━━━━━━━━━━━━━━━━━━━━\u001b[0m\u001b[37m\u001b[0m \u001b[1m0s\u001b[0m 1ms/step - accuracy: 0.9686 - loss: 0.0929 - val_accuracy: 0.9473 - val_loss: 0.1224\n",
      "Epoch 19/50\n",
      "\u001b[1m107/107\u001b[0m \u001b[32m━━━━━━━━━━━━━━━━━━━━\u001b[0m\u001b[37m\u001b[0m \u001b[1m0s\u001b[0m 980us/step - accuracy: 0.9733 - loss: 0.0884 - val_accuracy: 0.9520 - val_loss: 0.1181\n",
      "Epoch 20/50\n",
      "\u001b[1m107/107\u001b[0m \u001b[32m━━━━━━━━━━━━━━━━━━━━\u001b[0m\u001b[37m\u001b[0m \u001b[1m0s\u001b[0m 1ms/step - accuracy: 0.9715 - loss: 0.0860 - val_accuracy: 0.9438 - val_loss: 0.1229\n",
      "Epoch 21/50\n",
      "\u001b[1m107/107\u001b[0m \u001b[32m━━━━━━━━━━━━━━━━━━━━\u001b[0m\u001b[37m\u001b[0m \u001b[1m0s\u001b[0m 1ms/step - accuracy: 0.9704 - loss: 0.0828 - val_accuracy: 0.9426 - val_loss: 0.1204\n",
      "Epoch 22/50\n",
      "\u001b[1m107/107\u001b[0m \u001b[32m━━━━━━━━━━━━━━━━━━━━\u001b[0m\u001b[37m\u001b[0m \u001b[1m0s\u001b[0m 1ms/step - accuracy: 0.9715 - loss: 0.0825 - val_accuracy: 0.9438 - val_loss: 0.1215\n",
      "Epoch 23/50\n",
      "\u001b[1m107/107\u001b[0m \u001b[32m━━━━━━━━━━━━━━━━━━━━\u001b[0m\u001b[37m\u001b[0m \u001b[1m0s\u001b[0m 1ms/step - accuracy: 0.9711 - loss: 0.0828 - val_accuracy: 0.9532 - val_loss: 0.1091\n",
      "Epoch 24/50\n",
      "\u001b[1m107/107\u001b[0m \u001b[32m━━━━━━━━━━━━━━━━━━━━\u001b[0m\u001b[37m\u001b[0m \u001b[1m0s\u001b[0m 1ms/step - accuracy: 0.9774 - loss: 0.0747 - val_accuracy: 0.9496 - val_loss: 0.1246\n",
      "Epoch 25/50\n",
      "\u001b[1m107/107\u001b[0m \u001b[32m━━━━━━━━━━━━━━━━━━━━\u001b[0m\u001b[37m\u001b[0m \u001b[1m0s\u001b[0m 1ms/step - accuracy: 0.9724 - loss: 0.0736 - val_accuracy: 0.9520 - val_loss: 0.1147\n",
      "Epoch 26/50\n",
      "\u001b[1m107/107\u001b[0m \u001b[32m━━━━━━━━━━━━━━━━━━━━\u001b[0m\u001b[37m\u001b[0m \u001b[1m0s\u001b[0m 1ms/step - accuracy: 0.9777 - loss: 0.0777 - val_accuracy: 0.9508 - val_loss: 0.1111\n",
      "Epoch 27/50\n",
      "\u001b[1m107/107\u001b[0m \u001b[32m━━━━━━━━━━━━━━━━━━━━\u001b[0m\u001b[37m\u001b[0m \u001b[1m0s\u001b[0m 1ms/step - accuracy: 0.9770 - loss: 0.0720 - val_accuracy: 0.9532 - val_loss: 0.1082\n",
      "Epoch 28/50\n",
      "\u001b[1m107/107\u001b[0m \u001b[32m━━━━━━━━━━━━━━━━━━━━\u001b[0m\u001b[37m\u001b[0m \u001b[1m0s\u001b[0m 1ms/step - accuracy: 0.9792 - loss: 0.0635 - val_accuracy: 0.9543 - val_loss: 0.1029\n",
      "Epoch 29/50\n",
      "\u001b[1m107/107\u001b[0m \u001b[32m━━━━━━━━━━━━━━━━━━━━\u001b[0m\u001b[37m\u001b[0m \u001b[1m0s\u001b[0m 1ms/step - accuracy: 0.9820 - loss: 0.0659 - val_accuracy: 0.9532 - val_loss: 0.1103\n",
      "Epoch 30/50\n",
      "\u001b[1m107/107\u001b[0m \u001b[32m━━━━━━━━━━━━━━━━━━━━\u001b[0m\u001b[37m\u001b[0m \u001b[1m0s\u001b[0m 1ms/step - accuracy: 0.9809 - loss: 0.0623 - val_accuracy: 0.9543 - val_loss: 0.1108\n",
      "Epoch 31/50\n",
      "\u001b[1m107/107\u001b[0m \u001b[32m━━━━━━━━━━━━━━━━━━━━\u001b[0m\u001b[37m\u001b[0m \u001b[1m0s\u001b[0m 1ms/step - accuracy: 0.9829 - loss: 0.0609 - val_accuracy: 0.9567 - val_loss: 0.1013\n",
      "Epoch 32/50\n",
      "\u001b[1m107/107\u001b[0m \u001b[32m━━━━━━━━━━━━━━━━━━━━\u001b[0m\u001b[37m\u001b[0m \u001b[1m0s\u001b[0m 1ms/step - accuracy: 0.9798 - loss: 0.0584 - val_accuracy: 0.9543 - val_loss: 0.1091\n",
      "Epoch 33/50\n",
      "\u001b[1m107/107\u001b[0m \u001b[32m━━━━━━━━━━━━━━━━━━━━\u001b[0m\u001b[37m\u001b[0m \u001b[1m0s\u001b[0m 1ms/step - accuracy: 0.9828 - loss: 0.0571 - val_accuracy: 0.9473 - val_loss: 0.1171\n",
      "Epoch 34/50\n",
      "\u001b[1m107/107\u001b[0m \u001b[32m━━━━━━━━━━━━━━━━━━━━\u001b[0m\u001b[37m\u001b[0m \u001b[1m0s\u001b[0m 1ms/step - accuracy: 0.9874 - loss: 0.0507 - val_accuracy: 0.9496 - val_loss: 0.1125\n",
      "Epoch 35/50\n",
      "\u001b[1m107/107\u001b[0m \u001b[32m━━━━━━━━━━━━━━━━━━━━\u001b[0m\u001b[37m\u001b[0m \u001b[1m0s\u001b[0m 991us/step - accuracy: 0.9805 - loss: 0.0620 - val_accuracy: 0.9473 - val_loss: 0.1213\n",
      "Epoch 36/50\n",
      "\u001b[1m107/107\u001b[0m \u001b[32m━━━━━━━━━━━━━━━━━━━━\u001b[0m\u001b[37m\u001b[0m \u001b[1m0s\u001b[0m 945us/step - accuracy: 0.9815 - loss: 0.0583 - val_accuracy: 0.9543 - val_loss: 0.1046\n",
      "Epoch 37/50\n",
      "\u001b[1m107/107\u001b[0m \u001b[32m━━━━━━━━━━━━━━━━━━━━\u001b[0m\u001b[37m\u001b[0m \u001b[1m0s\u001b[0m 1ms/step - accuracy: 0.9842 - loss: 0.0503 - val_accuracy: 0.9520 - val_loss: 0.1111\n",
      "Epoch 38/50\n",
      "\u001b[1m107/107\u001b[0m \u001b[32m━━━━━━━━━━━━━━━━━━━━\u001b[0m\u001b[37m\u001b[0m \u001b[1m0s\u001b[0m 1ms/step - accuracy: 0.9846 - loss: 0.0522 - val_accuracy: 0.9543 - val_loss: 0.1033\n",
      "Epoch 39/50\n",
      "\u001b[1m107/107\u001b[0m \u001b[32m━━━━━━━━━━━━━━━━━━━━\u001b[0m\u001b[37m\u001b[0m \u001b[1m0s\u001b[0m 1ms/step - accuracy: 0.9811 - loss: 0.0577 - val_accuracy: 0.9555 - val_loss: 0.1138\n",
      "Epoch 40/50\n",
      "\u001b[1m107/107\u001b[0m \u001b[32m━━━━━━━━━━━━━━━━━━━━\u001b[0m\u001b[37m\u001b[0m \u001b[1m0s\u001b[0m 1ms/step - accuracy: 0.9824 - loss: 0.0518 - val_accuracy: 0.9555 - val_loss: 0.1164\n",
      "Epoch 41/50\n",
      "\u001b[1m107/107\u001b[0m \u001b[32m━━━━━━━━━━━━━━━━━━━━\u001b[0m\u001b[37m\u001b[0m \u001b[1m0s\u001b[0m 1ms/step - accuracy: 0.9875 - loss: 0.0560 - val_accuracy: 0.9555 - val_loss: 0.1041\n",
      "Epoch 42/50\n",
      "\u001b[1m107/107\u001b[0m \u001b[32m━━━━━━━━━━━━━━━━━━━━\u001b[0m\u001b[37m\u001b[0m \u001b[1m0s\u001b[0m 1ms/step - accuracy: 0.9861 - loss: 0.0465 - val_accuracy: 0.9532 - val_loss: 0.1089\n",
      "Epoch 43/50\n",
      "\u001b[1m107/107\u001b[0m \u001b[32m━━━━━━━━━━━━━━━━━━━━\u001b[0m\u001b[37m\u001b[0m \u001b[1m0s\u001b[0m 1ms/step - accuracy: 0.9813 - loss: 0.0555 - val_accuracy: 0.9590 - val_loss: 0.1056\n",
      "Epoch 44/50\n",
      "\u001b[1m107/107\u001b[0m \u001b[32m━━━━━━━━━━━━━━━━━━━━\u001b[0m\u001b[37m\u001b[0m \u001b[1m0s\u001b[0m 1ms/step - accuracy: 0.9850 - loss: 0.0416 - val_accuracy: 0.9555 - val_loss: 0.1162\n",
      "Epoch 45/50\n",
      "\u001b[1m107/107\u001b[0m \u001b[32m━━━━━━━━━━━━━━━━━━━━\u001b[0m\u001b[37m\u001b[0m \u001b[1m0s\u001b[0m 1ms/step - accuracy: 0.9834 - loss: 0.0509 - val_accuracy: 0.9532 - val_loss: 0.1158\n",
      "Epoch 46/50\n",
      "\u001b[1m107/107\u001b[0m \u001b[32m━━━━━━━━━━━━━━━━━━━━\u001b[0m\u001b[37m\u001b[0m \u001b[1m0s\u001b[0m 1ms/step - accuracy: 0.9866 - loss: 0.0400 - val_accuracy: 0.9520 - val_loss: 0.1172\n",
      "Epoch 47/50\n",
      "\u001b[1m107/107\u001b[0m \u001b[32m━━━━━━━━━━━━━━━━━━━━\u001b[0m\u001b[37m\u001b[0m \u001b[1m0s\u001b[0m 1ms/step - accuracy: 0.9818 - loss: 0.0478 - val_accuracy: 0.9567 - val_loss: 0.1101\n",
      "Epoch 48/50\n",
      "\u001b[1m107/107\u001b[0m \u001b[32m━━━━━━━━━━━━━━━━━━━━\u001b[0m\u001b[37m\u001b[0m \u001b[1m0s\u001b[0m 945us/step - accuracy: 0.9848 - loss: 0.0467 - val_accuracy: 0.9508 - val_loss: 0.1338\n",
      "Epoch 49/50\n",
      "\u001b[1m107/107\u001b[0m \u001b[32m━━━━━━━━━━━━━━━━━━━━\u001b[0m\u001b[37m\u001b[0m \u001b[1m0s\u001b[0m 981us/step - accuracy: 0.9839 - loss: 0.0485 - val_accuracy: 0.9496 - val_loss: 0.1215\n",
      "Epoch 50/50\n",
      "\u001b[1m107/107\u001b[0m \u001b[32m━━━━━━━━━━━━━━━━━━━━\u001b[0m\u001b[37m\u001b[0m \u001b[1m0s\u001b[0m 985us/step - accuracy: 0.9838 - loss: 0.0410 - val_accuracy: 0.9496 - val_loss: 0.1158\n"
     ]
    }
   ],
   "source": [
    "# Treinar o modelo\n",
    "historico = modelo.fit(X_treino_scaler, y_treino, epochs=50, validation_data=(X_teste_scaler, y_teste), batch_size=32)"
   ]
  },
  {
   "cell_type": "markdown",
   "metadata": {},
   "source": [
    "# Avaliando o Desempenho"
   ]
  },
  {
   "cell_type": "markdown",
   "metadata": {},
   "source": [
    "## Perda e Acurácia"
   ]
  },
  {
   "cell_type": "code",
   "execution_count": 16,
   "metadata": {},
   "outputs": [
    {
     "name": "stdout",
     "output_type": "stream",
     "text": [
      "\u001b[1m27/27\u001b[0m \u001b[32m━━━━━━━━━━━━━━━━━━━━\u001b[0m\u001b[37m\u001b[0m \u001b[1m0s\u001b[0m 1ms/step - accuracy: 0.9556 - loss: 0.1000 \n",
      "Perda: 0.11583760380744934, Acurácia: 0.9496487379074097\n"
     ]
    }
   ],
   "source": [
    "# Avaliar o modelo\n",
    "teste_perda, teste_acuracia = modelo.evaluate(X_teste_scaler, y_teste)\n",
    "\n",
    "print(f'Perda: {teste_perda}, Acurácia: {teste_acuracia}')"
   ]
  },
  {
   "cell_type": "markdown",
   "metadata": {},
   "source": [
    "## Matriz de confusão\n",
    "\n",
    "### Classe 'Approved': total de 536, 521 acertos e 15 erros de previsão, menos de 3% de erro\n",
    "\n",
    "### Classse 'Rejected': total de 318, 290 acertos e 28 erros  de previsão, menos de 8% de erro"
   ]
  },
  {
   "cell_type": "code",
   "execution_count": 18,
   "metadata": {},
   "outputs": [
    {
     "name": "stdout",
     "output_type": "stream",
     "text": [
      "\u001b[1m27/27\u001b[0m \u001b[32m━━━━━━━━━━━━━━━━━━━━\u001b[0m\u001b[37m\u001b[0m \u001b[1m0s\u001b[0m 1ms/step \n"
     ]
    },
    {
     "data": {
      "image/png": "[encoded data removed]",
      "text/plain": [
       "<Figure size 640x480 with 2 Axes>"
      ]
     },
     "metadata": {},
     "output_type": "display_data"
    }
   ],
   "source": [
    "# Realizando mais algumas importações necessárias \n",
    "from sklearn.metrics import confusion_matrix, ConfusionMatrixDisplay\n",
    "import matplotlib.pyplot as plt\n",
    "\n",
    "\n",
    "# Previsões no conjunto de teste\n",
    "y_pred = modelo.predict(X_teste_scaler)\n",
    "y_pred_classes = (y_pred > 0.5).astype(int).flatten()  # Converte as probabilidades em classes (0 ou 1)\n",
    "\n",
    "# Criar a matriz de confusão\n",
    "cm = confusion_matrix(y_teste, y_pred_classes)\n",
    "\n",
    "# Exibir a matriz de confusão\n",
    "disp = ConfusionMatrixDisplay(confusion_matrix=cm, display_labels=label_encoder.classes_)\n",
    "disp.plot(cmap=plt.cm.Blues)\n",
    "plt.title('Confusion Matrix')\n",
    "plt.show()"
   ]
  },
  {
   "cell_type": "markdown",
   "metadata": {},
   "source": [
    "# Testes com novos Dados \n",
    "\n",
    "### Nesta etapa, foram solicitados novos dados ao usuário. Esses dados foram enviados para a rede, que, então, pôde indicar se o empréstimo foi aprovado ou não."
   ]
  },
  {
   "cell_type": "markdown",
   "metadata": {},
   "source": [
    "## Perguntas pro usuário"
   ]
  },
  {
   "cell_type": "code",
   "execution_count": 1,
   "metadata": {},
   "outputs": [],
   "source": [
    "# Simular perguntas ao usuário para coletar os dados necessários\n",
    "no_of_dependents = int(input(\"Número de dependentes: \"))\n",
    "\n",
    "# Coletar a escolaridade como string e usar o mapeamento\n",
    "education = input(\"Nível de escolaridade (Not Graduate, Graduate): \")\n",
    "education = \" \" + education # adiciona espaco no inicio da string por conta do dataset \n",
    "\n",
    "# Coletar a informação se é autônomo como string e usar o mapeamento\n",
    "self_employed = input(\"É autônomo (No, Yes): \")\n",
    "self_employed = \" \" + self_employed # adiciona espaco no inicio da string por conta do dataset \n",
    "\n",
    "income_annum = float(input(\"Renda anual: \"))\n",
    "loan_amount = float(input(\"Valor do empréstimo: \"))\n",
    "loan_term = int(input(\"Prazo do empréstimo (em meses): \"))\n",
    "cibil_score = float(input(\"Pontuação de crédito (CIBIL): \"))\n",
    "residential_assets_value = float(input(\"Valor dos ativos residenciais: \"))\n",
    "commercial_assets_value = float(input(\"Valor dos ativos comerciais: \"))\n",
    "luxury_assets_value = float(input(\"Valor dos ativos de luxo: \"))\n",
    "bank_asset_value = float(input(\"Valor dos ativos bancários: \"))"
   ]
  },
  {
   "cell_type": "markdown",
   "metadata": {},
   "source": [
    "## Criando DataFrame"
   ]
  },
  {
   "cell_type": "code",
   "execution_count": 4,
   "metadata": {},
   "outputs": [],
   "source": [
    "# Criar o dataframe com os dados fornecidos pelo usuário\n",
    "novo_dado = pd.DataFrame([[no_of_dependents, education, self_employed, income_annum, loan_amount, loan_term, \n",
    "                           cibil_score, residential_assets_value, commercial_assets_value, \n",
    "                           luxury_assets_value, bank_asset_value]], \n",
    "                         columns=[' no_of_dependents', ' education', ' self_employed', ' income_annum', \n",
    "                                  ' loan_amount', ' loan_term', ' cibil_score', ' residential_assets_value', \n",
    "                                  ' commercial_assets_value', ' luxury_assets_value', ' bank_asset_value'])"
   ]
  },
  {
   "cell_type": "markdown",
   "metadata": {},
   "source": [
    "## Pré-processamento do novo dado \n",
    "### Para realizar a codificação e a normalização dos dados fornecidos pelo usuário, foram utilizados os mesmos 'LabelEncoder' e 'StandardScaler' que foram empregados durante o treinamento."
   ]
  },
  {
   "cell_type": "code",
   "execution_count": 21,
   "metadata": {},
   "outputs": [],
   "source": [
    "# Transformar colunas categóricas com os encoders do treinamento \n",
    "novo_dado[' education'] = label_encoder_education.transform(novo_dado[' education'])\n",
    "novo_dado[' self_employed'] = label_encoder_self_employed.transform(novo_dado[' self_employed'])\n",
    "\n",
    "# Normalizar os dados numéricos usando o scaler do treinamento \n",
    "novo_dado_scaled = scaler.transform(novo_dado)"
   ]
  },
  {
   "cell_type": "markdown",
   "metadata": {},
   "source": [
    "## Previsão \n",
    "\n",
    "### Para realizar a previsão, assumiu-se que, se o valor for menor ou igual a 0.5, o empréstimo foi aprovado; caso contrário, ele foi negado. Isso ocorre porque o LabelEncoder atribuiu o valor 0 a 'Approved' e 1 a 'Rejected'."
   ]
  },
  {
   "cell_type": "code",
   "execution_count": 23,
   "metadata": {},
   "outputs": [
    {
     "name": "stdout",
     "output_type": "stream",
     "text": [
      "\u001b[1m1/1\u001b[0m \u001b[32m━━━━━━━━━━━━━━━━━━━━\u001b[0m\u001b[37m\u001b[0m \u001b[1m0s\u001b[0m 11ms/step\n",
      "Com base nas informações fornecidas\n",
      "empréstimo requisitado foi: Aprovado\n"
     ]
    }
   ],
   "source": [
    "# Fazer a previsão com o modelo\n",
    "predicao = modelo.predict(novo_dado_scaled)\n",
    "\n",
    "# Converter a previsão para \"Aprovado\" ou \"Não Aprovado\"\n",
    "# logica inversa \n",
    "resultado = \"Aprovado\" if predicao[0][0] <= 0.5 else \"Não Aprovado\"\n",
    "\n",
    "# Exibir o resultado\n",
    "print(\"Com base nas informações fornecidas\\nempréstimo requisitado foi:\", resultado)"
   ]
  }
 ],
 "metadata": {
  "kernelspec": {
   "display_name": "Python 3",
   "language": "python",
   "name": "python3"
  },
  "language_info": {
   "codemirror_mode": {
    "name": "ipython",
    "version": 3
   },
   "file_extension": ".py",
   "mimetype": "text/x-python",
   "name": "python",
   "nbconvert_exporter": "python",
   "pygments_lexer": "ipython3",
   "version": "3.10.12"
  }
 },
 "nbformat": 4,
 "nbformat_minor": 2
}
